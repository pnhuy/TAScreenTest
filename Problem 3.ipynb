{
 "cells": [
  {
   "cell_type": "markdown",
   "metadata": {},
   "source": [
    "# Problem 3"
   ]
  },
  {
   "cell_type": "markdown",
   "metadata": {},
   "source": [
    "The logistic sigmoid function is defined by $$ \\sigma(a) = \\frac{1}{1+exp(-a)}$$\n",
    "Show that\n",
    "\n",
    "1. $\\sigma(-a) = 1 - \\sigma(a)$\n",
    "\n",
    "2. The inverse function of $\\sigma(a)$ is given by $\\sigma^{-1}(y) = \\ln \\{ y/(1-y) \\}$"
   ]
  },
  {
   "cell_type": "markdown",
   "metadata": {},
   "source": [
    "# Solution\n",
    "\n",
    "## P3.1:\n",
    "\n",
    "We have:\n",
    "\n",
    "$$\\sigma(a) + \\sigma(-a) = \\frac{1}{1+\\exp(-a)} + \\frac{1}{1+\\exp(a)} = \\frac{\\exp(a)}{\\exp(a)+1} + \\frac{1}{1+\\exp(a)} = \\frac{\\exp(a) + 1}{1+\\exp(a)} = 1$$\n",
    "\n",
    "So that:\n",
    "\n",
    "$$\\sigma(-a) = 1 - \\sigma(a) \\blacksquare$$"
   ]
  },
  {
   "cell_type": "markdown",
   "metadata": {},
   "source": [
    "## P3.2:\n",
    "\n",
    "Let $$f(x) = \\ln{\\frac{x}{1-x}}$$\n",
    "\n",
    "We have \n",
    "$$ \\sigma(f(x)) = \\frac{1}{1+\\exp(-\\ln{\\frac{x}{1-x}})} = \\frac{1}{1+\\exp(\\ln{\\frac{1-x}{x}})} = \\frac{1}{1+\\frac{1-x}{x}} = \\frac{x}{x+1-x} = x$$\n",
    "\n",
    "So $f(x) = \\ln{\\frac{x}{1-x}}$ is the inverse function of $\\sigma(x)$"
   ]
  },
  {
   "cell_type": "code",
   "execution_count": null,
   "metadata": {},
   "outputs": [],
   "source": []
  }
 ],
 "metadata": {
  "kernelspec": {
   "display_name": "Python 3",
   "language": "python",
   "name": "python3"
  },
  "language_info": {
   "codemirror_mode": {
    "name": "ipython",
    "version": 3
   },
   "file_extension": ".py",
   "mimetype": "text/x-python",
   "name": "python",
   "nbconvert_exporter": "python",
   "pygments_lexer": "ipython3",
   "version": "3.6.5"
  }
 },
 "nbformat": 4,
 "nbformat_minor": 2
}
