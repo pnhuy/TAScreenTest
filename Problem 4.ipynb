{
 "cells": [
  {
   "cell_type": "markdown",
   "metadata": {},
   "source": [
    "# Problem 4\n",
    "\n",
    "Problem 4 (70 points) In a Machine Learning class at the VEF Academy, the students, the gender, and the scores are given in Table 1. A csv file of Table 1 can be downloaded from the Google form.\n",
    "\n",
    "<img src=\"img/P4.png\" width=\"50%\">"
   ]
  },
  {
   "cell_type": "markdown",
   "metadata": {},
   "source": [
    "# Solution"
   ]
  },
  {
   "cell_type": "code",
   "execution_count": 29,
   "metadata": {},
   "outputs": [],
   "source": [
    "import pandas as pd\n",
    "import matplotlib.pyplot as plt\n",
    "import seaborn as sns\n",
    "%matplotlib inline"
   ]
  },
  {
   "cell_type": "code",
   "execution_count": 3,
   "metadata": {},
   "outputs": [
    {
     "data": {
      "text/html": [
       "<div>\n",
       "<style scoped>\n",
       "    .dataframe tbody tr th:only-of-type {\n",
       "        vertical-align: middle;\n",
       "    }\n",
       "\n",
       "    .dataframe tbody tr th {\n",
       "        vertical-align: top;\n",
       "    }\n",
       "\n",
       "    .dataframe thead th {\n",
       "        text-align: right;\n",
       "    }\n",
       "</style>\n",
       "<table border=\"1\" class=\"dataframe\">\n",
       "  <thead>\n",
       "    <tr style=\"text-align: right;\">\n",
       "      <th></th>\n",
       "      <th>Student</th>\n",
       "      <th>Gender</th>\n",
       "      <th>Midterm1</th>\n",
       "      <th>Midterm2</th>\n",
       "      <th>Final</th>\n",
       "    </tr>\n",
       "  </thead>\n",
       "  <tbody>\n",
       "    <tr>\n",
       "      <th>0</th>\n",
       "      <td>Thanh</td>\n",
       "      <td>M</td>\n",
       "      <td>7</td>\n",
       "      <td>6</td>\n",
       "      <td>8</td>\n",
       "    </tr>\n",
       "    <tr>\n",
       "      <th>1</th>\n",
       "      <td>Hoai</td>\n",
       "      <td>F</td>\n",
       "      <td>9</td>\n",
       "      <td>8</td>\n",
       "      <td>8</td>\n",
       "    </tr>\n",
       "    <tr>\n",
       "      <th>2</th>\n",
       "      <td>Andy</td>\n",
       "      <td>M</td>\n",
       "      <td>10</td>\n",
       "      <td>8</td>\n",
       "      <td>9</td>\n",
       "    </tr>\n",
       "    <tr>\n",
       "      <th>3</th>\n",
       "      <td>Beatrix</td>\n",
       "      <td>F</td>\n",
       "      <td>6</td>\n",
       "      <td>7</td>\n",
       "      <td>7</td>\n",
       "    </tr>\n",
       "    <tr>\n",
       "      <th>4</th>\n",
       "      <td>Wen</td>\n",
       "      <td>M</td>\n",
       "      <td>5</td>\n",
       "      <td>6</td>\n",
       "      <td>7</td>\n",
       "    </tr>\n",
       "  </tbody>\n",
       "</table>\n",
       "</div>"
      ],
      "text/plain": [
       "   Student Gender  Midterm1  Midterm2  Final\n",
       "0    Thanh      M         7         6      8\n",
       "1     Hoai      F         9         8      8\n",
       "2     Andy      M        10         8      9\n",
       "3  Beatrix      F         6         7      7\n",
       "4      Wen      M         5         6      7"
      ]
     },
     "execution_count": 3,
     "metadata": {},
     "output_type": "execute_result"
    }
   ],
   "source": [
    "df = pd.read_csv('screening_test_problem_4.csv')\n",
    "df.head()"
   ]
  },
  {
   "cell_type": "markdown",
   "metadata": {},
   "source": [
    "## (a) \n",
    "\n",
    "Use a linear regression model to regress the Final score against the Midterm 1 score and Midterm 2 score. What are the coefficients (including the intercept) that you get from the model? What is the coefficient of determination (R2) of the model?"
   ]
  },
  {
   "cell_type": "code",
   "execution_count": 36,
   "metadata": {},
   "outputs": [
    {
     "data": {
      "text/plain": [
       "<seaborn.axisgrid.PairGrid at 0x7fcab1ee1c18>"
      ]
     },
     "execution_count": 36,
     "metadata": {},
     "output_type": "execute_result"
    },
    {
     "data": {
      "image/png": "[encoded data removed]",
      "text/plain": [
       "<Figure size 360x180 with 2 Axes>"
      ]
     },
     "metadata": {},
     "output_type": "display_data"
    }
   ],
   "source": [
    "sns.pairplot(df, x_vars=['Midterm1','Midterm2'], y_vars='Final')"
   ]
  },
  {
   "cell_type": "code",
   "execution_count": 35,
   "metadata": {},
   "outputs": [],
   "source": [
    "import statsmodels.api as sm\n",
    "import statsmodels.formula.api as smf\n",
    "\n",
    "var_a = ['Midterm1', 'Midterm2']\n",
    "reg_a = smf.ols('Final ~ Midterm1 + Midterm2', data=df).fit()\n",
    "#print(reg_a.summary())\n",
    "y_pred_a = reg_a.predict(df[var_a])"
   ]
  },
  {
   "cell_type": "code",
   "execution_count": 5,
   "metadata": {},
   "outputs": [
    {
     "name": "stdout",
     "output_type": "stream",
     "text": [
      "Coefficients: \n",
      " Intercept    3.577207\n",
      "Midterm1     0.300200\n",
      "Midterm2     0.263191\n",
      "dtype: float64\n",
      "R squared: \n",
      " 0.6163286853459398\n"
     ]
    }
   ],
   "source": [
    "print('Coefficients: \\n', reg_a.params)\n",
    "print('R squared: \\n', reg_a.rsquared)"
   ]
  },
  {
   "cell_type": "markdown",
   "metadata": {},
   "source": [
    "## (b) \n",
    "Now include the gender information as another independent variable in your linear regression model. How do you represent the gender information? What are the coefficients (including the intercept) that you get from this linear regression model? What is the coefficent of determination (R2) of the model?"
   ]
  },
  {
   "cell_type": "markdown",
   "metadata": {},
   "source": [
    "The gender variable is a binary variable so it should be encode to a vector of [0, 1] with 0 for female and 1 for male."
   ]
  },
  {
   "cell_type": "code",
   "execution_count": 16,
   "metadata": {},
   "outputs": [
    {
     "data": {
      "text/html": [
       "<div>\n",
       "<style scoped>\n",
       "    .dataframe tbody tr th:only-of-type {\n",
       "        vertical-align: middle;\n",
       "    }\n",
       "\n",
       "    .dataframe tbody tr th {\n",
       "        vertical-align: top;\n",
       "    }\n",
       "\n",
       "    .dataframe thead th {\n",
       "        text-align: right;\n",
       "    }\n",
       "</style>\n",
       "<table border=\"1\" class=\"dataframe\">\n",
       "  <thead>\n",
       "    <tr style=\"text-align: right;\">\n",
       "      <th></th>\n",
       "      <th>Student</th>\n",
       "      <th>Gender</th>\n",
       "      <th>Midterm1</th>\n",
       "      <th>Midterm2</th>\n",
       "      <th>Final</th>\n",
       "      <th>encodedGender</th>\n",
       "    </tr>\n",
       "  </thead>\n",
       "  <tbody>\n",
       "    <tr>\n",
       "      <th>0</th>\n",
       "      <td>Thanh</td>\n",
       "      <td>M</td>\n",
       "      <td>7</td>\n",
       "      <td>6</td>\n",
       "      <td>8</td>\n",
       "      <td>1</td>\n",
       "    </tr>\n",
       "    <tr>\n",
       "      <th>1</th>\n",
       "      <td>Hoai</td>\n",
       "      <td>F</td>\n",
       "      <td>9</td>\n",
       "      <td>8</td>\n",
       "      <td>8</td>\n",
       "      <td>0</td>\n",
       "    </tr>\n",
       "    <tr>\n",
       "      <th>2</th>\n",
       "      <td>Andy</td>\n",
       "      <td>M</td>\n",
       "      <td>10</td>\n",
       "      <td>8</td>\n",
       "      <td>9</td>\n",
       "      <td>1</td>\n",
       "    </tr>\n",
       "    <tr>\n",
       "      <th>3</th>\n",
       "      <td>Beatrix</td>\n",
       "      <td>F</td>\n",
       "      <td>6</td>\n",
       "      <td>7</td>\n",
       "      <td>7</td>\n",
       "      <td>0</td>\n",
       "    </tr>\n",
       "    <tr>\n",
       "      <th>4</th>\n",
       "      <td>Wen</td>\n",
       "      <td>M</td>\n",
       "      <td>5</td>\n",
       "      <td>6</td>\n",
       "      <td>7</td>\n",
       "      <td>1</td>\n",
       "    </tr>\n",
       "  </tbody>\n",
       "</table>\n",
       "</div>"
      ],
      "text/plain": [
       "   Student Gender  Midterm1  Midterm2  Final  encodedGender\n",
       "0    Thanh      M         7         6      8              1\n",
       "1     Hoai      F         9         8      8              0\n",
       "2     Andy      M        10         8      9              1\n",
       "3  Beatrix      F         6         7      7              0\n",
       "4      Wen      M         5         6      7              1"
      ]
     },
     "execution_count": 16,
     "metadata": {},
     "output_type": "execute_result"
    }
   ],
   "source": [
    "df['encodedGender'] = (df.Gender == 'M').astype('int')\n",
    "df.head()"
   ]
  },
  {
   "cell_type": "code",
   "execution_count": 10,
   "metadata": {},
   "outputs": [],
   "source": [
    "var_b = ['Midterm1', 'Midterm2', 'encodedGender']\n",
    "reg_b = smf.ols('Final ~ Midterm1 + Midterm2 + encodedGender', data=df).fit()\n",
    "#print(reg_a.summary())\n",
    "y_pred_b = reg_b.predict(df[var_b])"
   ]
  },
  {
   "cell_type": "code",
   "execution_count": 18,
   "metadata": {
    "scrolled": true
   },
   "outputs": [
    {
     "name": "stdout",
     "output_type": "stream",
     "text": [
      "Coefficients:\n",
      "Intercept        3.902470\n",
      "Midterm1         0.294900\n",
      "Midterm2         0.237785\n",
      "encodedGender   -0.181914\n",
      "dtype: float64\n",
      "R squared: \n",
      " 0.6251919819357614\n"
     ]
    }
   ],
   "source": [
    "print('Coefficients:')\n",
    "print(reg_b.params)\n",
    "print('R squared: \\n', reg_b.rsquared)"
   ]
  },
  {
   "cell_type": "markdown",
   "metadata": {},
   "source": [
    "Comment in both models:\n",
    "\n",
    "1. Both have not so good R-squared (~0.6) which indicate that about 60% of the variation of Final score could be explained by the independent variable (Midterm1, Midterm2 (and Gender in the seconde model)). The rest (40%) is explained by unknown factors.\n",
    "2. There a overestimation with the low values and underestimation with the high ones.\n",
    "    "
   ]
  },
  {
   "cell_type": "markdown",
   "metadata": {},
   "source": [
    "## (c) \n",
    "Consider the problem of using the available data in Table 1 (Gender information, Midterm 1 scores, Midterm 2 scores) to predict the Final scores. Andy, a student in the class, claim that, for this dataset, gender information will help improve the predicting power. In orther words, using all gender information, Midterm 1 scores, and Midterm2 scores to predict the Final scores will be better than just using Midterm 1 scores and Midterm 2 scores. Is this claim correct? Show your reasoning / proof."
   ]
  },
  {
   "cell_type": "code",
   "execution_count": 50,
   "metadata": {},
   "outputs": [
    {
     "data": {
      "text/html": [
       "<div>\n",
       "<style scoped>\n",
       "    .dataframe tbody tr th:only-of-type {\n",
       "        vertical-align: middle;\n",
       "    }\n",
       "\n",
       "    .dataframe tbody tr th {\n",
       "        vertical-align: top;\n",
       "    }\n",
       "\n",
       "    .dataframe thead th {\n",
       "        text-align: right;\n",
       "    }\n",
       "</style>\n",
       "<table border=\"1\" class=\"dataframe\">\n",
       "  <thead>\n",
       "    <tr style=\"text-align: right;\">\n",
       "      <th></th>\n",
       "      <th>Model</th>\n",
       "      <th>R squared</th>\n",
       "    </tr>\n",
       "  </thead>\n",
       "  <tbody>\n",
       "    <tr>\n",
       "      <th>0</th>\n",
       "      <td>A</td>\n",
       "      <td>0.616329</td>\n",
       "    </tr>\n",
       "    <tr>\n",
       "      <th>1</th>\n",
       "      <td>B</td>\n",
       "      <td>0.625192</td>\n",
       "    </tr>\n",
       "  </tbody>\n",
       "</table>\n",
       "</div>"
      ],
      "text/plain": [
       "  Model  R squared\n",
       "0     A   0.616329\n",
       "1     B   0.625192"
      ]
     },
     "execution_count": 50,
     "metadata": {},
     "output_type": "execute_result"
    }
   ],
   "source": [
    "rsqTable = pd.DataFrame(\n",
    "    {\n",
    "        'Model': ['A', 'B'],\n",
    "        'R squared': [reg_a.rsquared,reg_b.rsquared]\n",
    "    }\n",
    ")\n",
    "rsqTable"
   ]
  },
  {
   "cell_type": "markdown",
   "metadata": {},
   "source": [
    "The above table presents the $R^2$ values of both reported model. Although the model B (Midterm1, Midterm2, Gender) has higher $R^2$, we can not state that it has better performance in predicting. Because $R^2$ just represent the proportion of the variance for a dependent variable that's explained by an independent variable. In fact, $R^2$ usually increases when adding new independent variable. Regarding to predicting power, $R^2$ is quite inconsequential.\n",
    "\n",
    "In order to assessing the performance of the models, there are several approaches. In this report, **cross-validation** and **criteria selection** are used. "
   ]
  },
  {
   "cell_type": "markdown",
   "metadata": {},
   "source": [
    "### Cross validation"
   ]
  },
  {
   "cell_type": "code",
   "execution_count": 53,
   "metadata": {},
   "outputs": [],
   "source": [
    "from sklearn.linear_model import LinearRegression\n",
    "from sklearn.model_selection import cross_val_score\n",
    "\n",
    "lm = LinearRegression()\n",
    "Xa = df[['Midterm1', 'Midterm2']]\n",
    "Xb = df[['Midterm1', 'Midterm2', 'encodedGender']]\n",
    "y = df.Final\n",
    "cv_a = cross_val_score(lm, Xa, y, cv=5, scoring=\"neg_mean_squared_error\")\n",
    "cv_b = cross_val_score(lm, Xb, y, cv=5, scoring=\"neg_mean_squared_error\")\n",
    "score_a = -cv_a\n",
    "score_b = -cv_b"
   ]
  },
  {
   "cell_type": "code",
   "execution_count": 55,
   "metadata": {},
   "outputs": [
    {
     "data": {
      "text/html": [
       "<div>\n",
       "<style scoped>\n",
       "    .dataframe tbody tr th:only-of-type {\n",
       "        vertical-align: middle;\n",
       "    }\n",
       "\n",
       "    .dataframe tbody tr th {\n",
       "        vertical-align: top;\n",
       "    }\n",
       "\n",
       "    .dataframe thead th {\n",
       "        text-align: right;\n",
       "    }\n",
       "</style>\n",
       "<table border=\"1\" class=\"dataframe\">\n",
       "  <thead>\n",
       "    <tr style=\"text-align: right;\">\n",
       "      <th></th>\n",
       "      <th>Model</th>\n",
       "      <th>R squared</th>\n",
       "      <th>Average RMSE</th>\n",
       "    </tr>\n",
       "  </thead>\n",
       "  <tbody>\n",
       "    <tr>\n",
       "      <th>0</th>\n",
       "      <td>A</td>\n",
       "      <td>0.616329</td>\n",
       "      <td>0.425726</td>\n",
       "    </tr>\n",
       "    <tr>\n",
       "      <th>1</th>\n",
       "      <td>B</td>\n",
       "      <td>0.625192</td>\n",
       "      <td>0.472580</td>\n",
       "    </tr>\n",
       "  </tbody>\n",
       "</table>\n",
       "</div>"
      ],
      "text/plain": [
       "  Model  R squared  Average RMSE\n",
       "0     A   0.616329      0.425726\n",
       "1     B   0.625192      0.472580"
      ]
     },
     "execution_count": 55,
     "metadata": {},
     "output_type": "execute_result"
    }
   ],
   "source": [
    "perfTable = pd.DataFrame(\n",
    "    {\n",
    "        'Model': ['A', 'B'],\n",
    "        'R squared': [reg_a.rsquared,reg_b.rsquared],\n",
    "        'Average RMSE': [score_a.mean(), score_b.mean()]\n",
    "    }\n",
    ")\n",
    "perfTable"
   ]
  },
  {
   "cell_type": "markdown",
   "metadata": {},
   "source": [
    "**RMSE** or **Root-Mean-Square Error** is the measure of the distance between predicted values and the actual values. The higher RMSE means the actual values are more widely spread from the fitted line. So RMSE is something we need to minimize; in other words, the smaller RMSE is, the better model is.\n",
    "\n",
    "So that, Model A (Midterm1, Midterm2) with lower RMSE (0.425726 < 0.472580)  is better than Model B  in term of model performance."
   ]
  },
  {
   "cell_type": "markdown",
   "metadata": {},
   "source": [
    "### Criteria"
   ]
  },
  {
   "cell_type": "code",
   "execution_count": 25,
   "metadata": {},
   "outputs": [
    {
     "data": {
      "text/html": [
       "<div>\n",
       "<style scoped>\n",
       "    .dataframe tbody tr th:only-of-type {\n",
       "        vertical-align: middle;\n",
       "    }\n",
       "\n",
       "    .dataframe tbody tr th {\n",
       "        vertical-align: top;\n",
       "    }\n",
       "\n",
       "    .dataframe thead th {\n",
       "        text-align: right;\n",
       "    }\n",
       "</style>\n",
       "<table border=\"1\" class=\"dataframe\">\n",
       "  <thead>\n",
       "    <tr style=\"text-align: right;\">\n",
       "      <th></th>\n",
       "      <th>Model</th>\n",
       "      <th>R squared</th>\n",
       "      <th>AIC</th>\n",
       "      <th>BIC</th>\n",
       "    </tr>\n",
       "  </thead>\n",
       "  <tbody>\n",
       "    <tr>\n",
       "      <th>0</th>\n",
       "      <td>A</td>\n",
       "      <td>0.616329</td>\n",
       "      <td>38.820322</td>\n",
       "      <td>41.807519</td>\n",
       "    </tr>\n",
       "    <tr>\n",
       "      <th>1</th>\n",
       "      <td>B</td>\n",
       "      <td>0.625192</td>\n",
       "      <td>40.352876</td>\n",
       "      <td>44.335806</td>\n",
       "    </tr>\n",
       "  </tbody>\n",
       "</table>\n",
       "</div>"
      ],
      "text/plain": [
       "  Model  R squared        AIC        BIC\n",
       "0     A   0.616329  38.820322  41.807519\n",
       "1     B   0.625192  40.352876  44.335806"
      ]
     },
     "execution_count": 25,
     "metadata": {},
     "output_type": "execute_result"
    }
   ],
   "source": [
    "perfTable = pd.DataFrame(\n",
    "    {\n",
    "        'Model': ['A', 'B'],\n",
    "        'R squared': [reg_a.rsquared,reg_b.rsquared],\n",
    "        'AIC': [reg_a.aic, reg_b.aic],\n",
    "        'BIC': [reg_a.bic, reg_b.bic]\n",
    "    }\n",
    ")\n",
    "perfTable"
   ]
  },
  {
   "cell_type": "markdown",
   "metadata": {},
   "source": [
    "AIC (or Akaike information criterion) and BIC (Bayesian information criterion) are both penalized-likelihood criteria. The better model have smaller AIC (BIC).\n",
    "\n",
    "According to the above table, Model A (Midterm1, Midterm2) have smaller AIC (38.820322 < 40.352876) and BIC (41.807519 < 44.335806); so Model A have better performance than Model B."
   ]
  },
  {
   "cell_type": "markdown",
   "metadata": {},
   "source": [
    "*Comment:*\n",
    "\n",
    "We also consider the p-value in Model B (see Appendix) the p-value of encodedGender is high (0.5) which indicates that this variable is not significant."
   ]
  },
  {
   "cell_type": "markdown",
   "metadata": {},
   "source": [
    "## (d) \n",
    "Suppose that we have a dataset as in Table 1 with a large enough number of rows. Suppose further that due to database errors, several Midterm 1 scores and Midterm 2 scores in Table 1 became null. However, you still want to use this dataset to train and test a model. Present three methods that you can use to handle the missing values and discuss the advantages and disadvantages of each method."
   ]
  },
  {
   "cell_type": "markdown",
   "metadata": {},
   "source": [
    "1. Ignore the record having null values\n",
    "\n",
    "  + Advantage: \n",
    "    - Handle easily\n",
    "\n",
    "  + Disadvantage:\n",
    "    - Lose data, \n",
    "    - Not suitable for dataset have many null values\n",
    "\n",
    "2. Fill in missing values with the mean or the median\n",
    "\n",
    "  + Advantage:\n",
    "    - Do not lose the data\n",
    "    - Not quite hard to handle\n",
    "\n",
    "  + Disadvantage:\n",
    "    - Bias the model because the mean or the median is not exactly the real values of all missing values\n",
    "\n",
    "3. Using model of data which is full of values to predict the missing values\n",
    "\n",
    "  + Advantage:\n",
    "    - Do not bias the model\n",
    "\n",
    "  + Disadvantage:\n",
    "    - Not easy to handle"
   ]
  },
  {
   "cell_type": "markdown",
   "metadata": {},
   "source": [
    "## (e) \n",
    "Suppose that we have a dataset as in Table 1 with large enough number of rows. Consider the problem of using the available data in Table 1 (Gender information, Midterm1 scores, Midterm 2 scores) to predict the Final scores. Present two ensemble methods that you can use to solve this problem. Discuss the advantages and disadvantages of each method."
   ]
  },
  {
   "cell_type": "markdown",
   "metadata": {},
   "source": [
    "### Random forest:\n",
    "> Gradient boosting is a machine learning technique for regression and classification problems, which produces a prediction model in the form of an ensemble of weak prediction models, typically decision trees. (*Wikipedia*)\n",
    "\n",
    "#### Advantages:\n",
    "- Performance is usually good.\n",
    "- Used for both regression and classification problems.\n",
    "- Could be used for both numerical and categorical feature without scaling. RF also handle missing data well thank to CART method which replaces the missing with the mean or other reasonable value.\n",
    "- Easy to build with 2 main hyperparameters: number of trees (m) and number of features (n), m is usually recommended around $\\sqrt{n}$ for classification or $n/3$ for regression. [1, 2]\n",
    "- Because of using a random subset of features on each training epoch, RF could handle overfitting well. Random feature selection also help reducing the bias. In the other hand, the variance is kept low due to ensemble of unprunned tree.\n",
    "- The results of variable importance which is extracted from random forest model could be used as a feature selection tools.\n",
    "\n",
    "\n",
    "#### Disadvantages:\n",
    "- There are many model to build so the computation cost may be slow in the large dataset or big model.\n",
    "- Less interpretable than the original decision tree because we can not examine the individual tree in the forest. \n",
    "\n",
    "\n",
    "### Gradient boosting\n",
    "> Gradient boosting is a machine learning technique for regression and classification problems, which produces a prediction model in the form of an ensemble of weak prediction models, typically decision trees. It builds the model in a stage-wise fashion like other boosting methods do, and it generalizes them by allowing optimization of an arbitrary differentiable loss function. (*Wikipedia*)\n",
    "\n",
    "#### Advantages\n",
    "- The performance is really good, sometimes better than random forest. [3]\n",
    "- Could be used for both numerical and categorical feature without scaling.\n",
    "- Variable importance is also available.\n",
    "\n",
    "#### Disadvantages\n",
    "- There are many hyperparameters to tune: number of trees, number of leaves (depth), learning rate,... The right choices depend on each problem.\n",
    "- Because of countinuous minimization of error on each training epoch, the GB model could be overfitting. So it is good idea to perform large grid search to find out the good model.\n",
    "- Also less interpretable."
   ]
  },
  {
   "cell_type": "markdown",
   "metadata": {},
   "source": [
    "# Citation\n",
    "[1] James, G., Witten, D., Hastie, T., & Tibshirani, R. (2013). An introduction to statistical learning (Vol. 112). New York: springer\n",
    "\n",
    "[2] Friedman, J., Hastie, T., & Tibshirani, R. (2001). The elements of statistical learning (Vol. 1, No. 10). New York, NY, USA:: Springer series in statistics.\n",
    "\n",
    "[3] Olson, R. S., La Cava, W., Mustahsan, Z., Varik, A., & Moore, J. H. (2017). Data-driven advice for applying machine learning to bioinformatics problems. arXiv preprint arXiv:1708.05070."
   ]
  },
  {
   "cell_type": "markdown",
   "metadata": {},
   "source": [
    "# Appendix"
   ]
  },
  {
   "cell_type": "code",
   "execution_count": 58,
   "metadata": {},
   "outputs": [
    {
     "data": {
      "text/html": [
       "<table class=\"simpletable\">\n",
       "<caption>OLS Regression Results</caption>\n",
       "<tr>\n",
       "  <th>Dep. Variable:</th>          <td>Final</td>      <th>  R-squared:         </th> <td>   0.625</td>\n",
       "</tr>\n",
       "<tr>\n",
       "  <th>Model:</th>                   <td>OLS</td>       <th>  Adj. R-squared:    </th> <td>   0.555</td>\n",
       "</tr>\n",
       "<tr>\n",
       "  <th>Method:</th>             <td>Least Squares</td>  <th>  F-statistic:       </th> <td>   8.896</td>\n",
       "</tr>\n",
       "<tr>\n",
       "  <th>Date:</th>             <td>Sun, 28 Oct 2018</td> <th>  Prob (F-statistic):</th>  <td>0.00106</td>\n",
       "</tr>\n",
       "<tr>\n",
       "  <th>Time:</th>                 <td>08:16:16</td>     <th>  Log-Likelihood:    </th> <td> -16.176</td>\n",
       "</tr>\n",
       "<tr>\n",
       "  <th>No. Observations:</th>      <td>    20</td>      <th>  AIC:               </th> <td>   40.35</td>\n",
       "</tr>\n",
       "<tr>\n",
       "  <th>Df Residuals:</th>          <td>    16</td>      <th>  BIC:               </th> <td>   44.34</td>\n",
       "</tr>\n",
       "<tr>\n",
       "  <th>Df Model:</th>              <td>     3</td>      <th>                     </th>     <td> </td>   \n",
       "</tr>\n",
       "<tr>\n",
       "  <th>Covariance Type:</th>      <td>nonrobust</td>    <th>                     </th>     <td> </td>   \n",
       "</tr>\n",
       "</table>\n",
       "<table class=\"simpletable\">\n",
       "<tr>\n",
       "        <td></td>           <th>coef</th>     <th>std err</th>      <th>t</th>      <th>P>|t|</th>  <th>[0.025</th>    <th>0.975]</th>  \n",
       "</tr>\n",
       "<tr>\n",
       "  <th>Intercept</th>     <td>    3.9025</td> <td>    1.035</td> <td>    3.771</td> <td> 0.002</td> <td>    1.708</td> <td>    6.097</td>\n",
       "</tr>\n",
       "<tr>\n",
       "  <th>Midterm1</th>      <td>    0.2949</td> <td>    0.110</td> <td>    2.674</td> <td> 0.017</td> <td>    0.061</td> <td>    0.529</td>\n",
       "</tr>\n",
       "<tr>\n",
       "  <th>Midterm2</th>      <td>    0.2378</td> <td>    0.156</td> <td>    1.525</td> <td> 0.147</td> <td>   -0.093</td> <td>    0.568</td>\n",
       "</tr>\n",
       "<tr>\n",
       "  <th>encodedGender</th> <td>   -0.1819</td> <td>    0.296</td> <td>   -0.615</td> <td> 0.547</td> <td>   -0.809</td> <td>    0.445</td>\n",
       "</tr>\n",
       "</table>\n",
       "<table class=\"simpletable\">\n",
       "<tr>\n",
       "  <th>Omnibus:</th>       <td> 2.634</td> <th>  Durbin-Watson:     </th> <td>   1.817</td>\n",
       "</tr>\n",
       "<tr>\n",
       "  <th>Prob(Omnibus):</th> <td> 0.268</td> <th>  Jarque-Bera (JB):  </th> <td>   1.187</td>\n",
       "</tr>\n",
       "<tr>\n",
       "  <th>Skew:</th>          <td> 0.109</td> <th>  Prob(JB):          </th> <td>   0.552</td>\n",
       "</tr>\n",
       "<tr>\n",
       "  <th>Kurtosis:</th>      <td> 1.826</td> <th>  Cond. No.          </th> <td>    82.6</td>\n",
       "</tr>\n",
       "</table><br/><br/>Warnings:<br/>[1] Standard Errors assume that the covariance matrix of the errors is correctly specified."
      ],
      "text/plain": [
       "<class 'statsmodels.iolib.summary.Summary'>\n",
       "\"\"\"\n",
       "                            OLS Regression Results                            \n",
       "==============================================================================\n",
       "Dep. Variable:                  Final   R-squared:                       0.625\n",
       "Model:                            OLS   Adj. R-squared:                  0.555\n",
       "Method:                 Least Squares   F-statistic:                     8.896\n",
       "Date:                Sun, 28 Oct 2018   Prob (F-statistic):            0.00106\n",
       "Time:                        08:16:16   Log-Likelihood:                -16.176\n",
       "No. Observations:                  20   AIC:                             40.35\n",
       "Df Residuals:                      16   BIC:                             44.34\n",
       "Df Model:                           3                                         \n",
       "Covariance Type:            nonrobust                                         \n",
       "=================================================================================\n",
       "                    coef    std err          t      P>|t|      [0.025      0.975]\n",
       "---------------------------------------------------------------------------------\n",
       "Intercept         3.9025      1.035      3.771      0.002       1.708       6.097\n",
       "Midterm1          0.2949      0.110      2.674      0.017       0.061       0.529\n",
       "Midterm2          0.2378      0.156      1.525      0.147      -0.093       0.568\n",
       "encodedGender    -0.1819      0.296     -0.615      0.547      -0.809       0.445\n",
       "==============================================================================\n",
       "Omnibus:                        2.634   Durbin-Watson:                   1.817\n",
       "Prob(Omnibus):                  0.268   Jarque-Bera (JB):                1.187\n",
       "Skew:                           0.109   Prob(JB):                        0.552\n",
       "Kurtosis:                       1.826   Cond. No.                         82.6\n",
       "==============================================================================\n",
       "\n",
       "Warnings:\n",
       "[1] Standard Errors assume that the covariance matrix of the errors is correctly specified.\n",
       "\"\"\""
      ]
     },
     "execution_count": 58,
     "metadata": {},
     "output_type": "execute_result"
    }
   ],
   "source": [
    "reg_b.summary()"
   ]
  },
  {
   "cell_type": "code",
   "execution_count": 46,
   "metadata": {},
   "outputs": [
    {
     "data": {
      "text/plain": [
       "<seaborn.axisgrid.PairGrid at 0x7fcab12a6668>"
      ]
     },
     "execution_count": 46,
     "metadata": {},
     "output_type": "execute_result"
    },
    {
     "data": {
      "image/png": "[encoded data removed]",
      "text/plain": [
       "<Figure size 540x180 with 3 Axes>"
      ]
     },
     "metadata": {},
     "output_type": "display_data"
    }
   ],
   "source": [
    "sns.pairplot(df, x_vars=['Midterm1','Midterm2', 'encodedGender'], y_vars='Final', kind='reg')"
   ]
  },
  {
   "cell_type": "code",
   "execution_count": 15,
   "metadata": {},
   "outputs": [
    {
     "data": {
      "text/plain": [
       "[<matplotlib.lines.Line2D at 0x7fcab291be48>]"
      ]
     },
     "execution_count": 15,
     "metadata": {},
     "output_type": "execute_result"
    },
    {
     "data": {
      "image/png": "[encoded data removed]",
      "text/plain": [
       "<Figure size 432x288 with 1 Axes>"
      ]
     },
     "metadata": {},
     "output_type": "display_data"
    }
   ],
   "source": [
    "plt.scatter(df.Final, y_pred_b)\n",
    "plt.plot(y_pred_a, y_pred_a, linewidth = 5, color='blue')\n",
    "plt.plot(y_pred_b, y_pred_b, color='yellow')"
   ]
  },
  {
   "cell_type": "code",
   "execution_count": null,
   "metadata": {},
   "outputs": [],
   "source": []
  }
 ],
 "metadata": {
  "kernelspec": {
   "display_name": "Python 3",
   "language": "python",
   "name": "python3"
  },
  "language_info": {
   "codemirror_mode": {
    "name": "ipython",
    "version": 3
   },
   "file_extension": ".py",
   "mimetype": "text/x-python",
   "name": "python",
   "nbconvert_exporter": "python",
   "pygments_lexer": "ipython3",
   "version": "3.6.5"
  }
 },
 "nbformat": 4,
 "nbformat_minor": 2
}
